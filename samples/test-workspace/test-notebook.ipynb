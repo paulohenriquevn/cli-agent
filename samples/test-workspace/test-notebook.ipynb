{
  "cells": [
    {
      "id": "3lrrk3e283",
      "cell_type": "code",
      "source": [
        "print(\"Modified!\")"
      ],
      "metadata": {},
      "execution_count": null,
      "outputs": []
    },
    {
      "cell_type": "code",
      "source": [
        "print(\"Hello from notebook!\")"
      ]
    }
  ],
  "metadata": {},
  "nbformat": 4,
  "nbformat_minor": 4
}